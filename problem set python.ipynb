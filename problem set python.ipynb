{
 "cells": [
  {
   "cell_type": "markdown",
   "id": "12bb0b2f",
   "metadata": {},
   "source": [
    "Question 6 Python  \n",
    "16. You can turn a word into pig-Latin using the following two rules(simplified):  \n",
    "• If the word starts with a consonant, move that letter to the end and append \n",
    "'ay'. For example, 'happy' becomes 'appyhay' and 'pencil' becomes 'encilpay'.  • If the word starts with a vowel, simply append 'way' to the end of the word.  \n",
    "For example, 'enter' becomes 'enterway' and 'other' becomes 'otherway' . For \n",
    "our purposes, there are 5 vowels: a, e, i, o, u (so we count y as a consonant).\n",
    "Write a function pig() that takes a word (i.e., a string) as input and returns its pig-Latin form. Your function should still work if the input word contains upper case \n",
    "characters. Your output should always be lower case however.  \n",
    "pig('happy')  \n",
    "'appyhay'  \n",
    "pig('Enter')  \n",
    "'enterway'"
   ]
  },
  {
   "cell_type": "code",
   "execution_count": 4,
   "id": "f82ec52e",
   "metadata": {},
   "outputs": [
    {
     "name": "stdout",
     "output_type": "stream",
     "text": [
      "Enter a word : happy\n",
      "appyhay\n"
     ]
    }
   ],
   "source": [
    "vowels = ['a','e','i','o','u']\n",
    "def pig():\n",
    "    str = input(\"Enter a word : \")\n",
    "    str = str.lower()\n",
    "    if str[0] in vowels:\n",
    "        str = str + 'way'\n",
    "        print (str)\n",
    "    else:\n",
    "        result = str[1:]\n",
    "        result = result + str[0] + 'ay'\n",
    "        print(result)\n",
    "pig()"
   ]
  },
  {
   "cell_type": "markdown",
   "id": "823c926c",
   "metadata": {},
   "source": [
    "Question 7 Python\n",
    "File bloodtype1.txt records blood-types of patients (A, B, AB, O or OO) at a clinic. \n",
    "Write a function bldcount() that reads the file with name name and reports (i.e., \n",
    "prints) how many patients there are in each bloodtype.  \n",
    "->bldcount('bloodtype.txt')  \n",
    "There are 10 patients of blood type A.  \n",
    "There is one patient of blood type B.  \n",
    "There are 10 patients of blood type AB.  \n",
    "There are 12 patients of blood type O.  \n",
    "There are no patients of blood type OO."
   ]
  },
  {
   "cell_type": "code",
   "execution_count": 5,
   "id": "c5ceed3d",
   "metadata": {},
   "outputs": [],
   "source": [
    "def bldcount(filename):\n",
    "    file = open(filename, \"r\")\n",
    "    list = file.readlines() \n",
    "    for i in list:\n",
    "        data = i.split() #data are in list now\n",
    "\n",
    "        A = data.count('A')\n",
    "        B = data.count('B')\n",
    "        AB = data.count('AB')\n",
    "        O = data.count('O')\n",
    "        OO = data.count('OO')\n",
    "        print(\"There are\" ,A, \"patients of blood type A.\")\n",
    "        print(\"There are\" ,B, \"patients of blood type B.\")\n",
    "        print(\"There are\" ,AB, \"patients of blood type AB.\")\n",
    "        print(\"There are\" ,O, \"patients of blood type O.\")\n",
    "        print(\"There are\" ,OO, \"patients of blood type OO.\")\n"
   ]
  },
  {
   "cell_type": "code",
   "execution_count": 6,
   "id": "7076f455",
   "metadata": {},
   "outputs": [
    {
     "name": "stdout",
     "output_type": "stream",
     "text": [
      "There are 15 patients of blood type A.\n",
      "There are 1 patients of blood type B.\n",
      "There are 13 patients of blood type AB.\n",
      "There are 15 patients of blood type O.\n",
      "There are 0 patients of blood type OO.\n"
     ]
    }
   ],
   "source": [
    "bldcount(\"bloodtype1.txt\")"
   ]
  },
  {
   "cell_type": "markdown",
   "id": "8d2c4230",
   "metadata": {},
   "source": [
    "Question 8 Python\n",
    "Write a function curconv() that takes as input:\n",
    "1. a currency represented using a string (e.g., 'JPY' for the Japanese Yen or \n",
    "'EUR' for the Euro)\n",
    "2. an amount\n",
    "and then converts and returns the amount in US dollars.\n",
    "-> curconv('EUR', 100)\n",
    "122.96544\n",
    "-> curconv('JPY', 100)\n",
    "1.241401  \n",
    "The currency rates you will need are stored in file currencies.txt:  \n",
    "AUD 1.0345157 Australian Dollar  \n",
    "CHF 1.0237414 Swiss Franc  \n",
    "CNY 0.1550176 Chinese Yuan  \n",
    "DKK 0.1651442 Danish Krone  \n",
    "EUR 1.2296544 Euro  \n",
    "GBP 1.5550989 British Pound  \n",
    "HKD 0.1270207 Hong Kong Dollar  \n",
    "INR 0.0177643 Indian Rupee  \n",
    "JPY 0.01241401 Japanese Yen  \n",
    "MXN 0.0751848 Mexican Peso  \n",
    "MYR 0.3145411 Malaysian Ringgit  \n",
    "NOK 0.1677063 Norwegian Krone  \n",
    "NZD 0.8003591 New Zealand Dollar  \n",
    "PHP 0.0233234 Philippine Peso  \n",
    "SEK 0.148269 Swedish Krona  \n",
    "SGD 0.788871 Singapore Dollar  \n",
    "THB 0.0313789 Thai Baht\n"
   ]
  },
  {
   "cell_type": "code",
   "execution_count": 7,
   "id": "a1c37c65",
   "metadata": {},
   "outputs": [],
   "source": [
    "def curconv(currency,amount):\n",
    "    currencies_file = open('currencies.txt')\n",
    "    sentence = currencies_file.readlines()\n",
    "    \n",
    "    currencies = {}\n",
    "    #creating dictionary with key and value.\n",
    "    for a in sentence:\n",
    "        currencies[a[:3].strip()] = a[4:].split(\"\\t\")\n",
    "    rate = currencies[currency][0].strip()\n",
    "    print(amount * float(rate))    "
   ]
  },
  {
   "cell_type": "code",
   "execution_count": 8,
   "id": "d1e89f17",
   "metadata": {},
   "outputs": [
    {
     "name": "stdout",
     "output_type": "stream",
     "text": [
      "122.96544\n",
      "1.241401\n"
     ]
    }
   ],
   "source": [
    "curconv('EUR', 100)\n",
    "curconv('JPY', 100)"
   ]
  },
  {
   "cell_type": "markdown",
   "id": "eefe486e",
   "metadata": {},
   "source": [
    "Question 9 Python  \n",
    "Each of the following will cause an exception (an error). Identify what type of exception each will cause.  \n",
    "Trying to add incompatible variables, as in   \n",
    "adding 6 + ‘a’  \n",
    "=> TypeError: unsupported operand type(s) for +: 'int' and 'str'  \n",
    "  \n",
    "Referring to the 12th item of a list that has only 10 items  \n",
    "Using a value that is out ofrange for a function’s  \n",
    "=>IndexError: list index out of range  \n",
    "  \n",
    "input, such as calling math.sqrt(-1.0)  \n",
    "=>ValueError: math domain error  \n",
    "  \n",
    "Using an undeclared variable, such as print(x)  \n",
    "when x has not been defined  \n",
    "=>NameError: name 'x' is not defined  \n",
    "  \n",
    "Trying to open a file that does not exist, such as  \n",
    "mistyping the file name or looking in the wrong directory.  \n",
    "=>FileNotFoundError: [Errno 2] No such file or directory: 'hello.txt'\n"
   ]
  },
  {
   "cell_type": "code",
   "execution_count": 9,
   "id": "8a40b4ba",
   "metadata": {
    "scrolled": true
   },
   "outputs": [
    {
     "ename": "TypeError",
     "evalue": "unsupported operand type(s) for +: 'int' and 'str'",
     "output_type": "error",
     "traceback": [
      "\u001b[1;31m---------------------------------------------------------------------------\u001b[0m",
      "\u001b[1;31mTypeError\u001b[0m                                 Traceback (most recent call last)",
      "Input \u001b[1;32mIn [9]\u001b[0m, in \u001b[0;36m<cell line: 1>\u001b[1;34m()\u001b[0m\n\u001b[1;32m----> 1\u001b[0m \u001b[38;5;241;43m6\u001b[39;49m\u001b[43m \u001b[49m\u001b[38;5;241;43m+\u001b[39;49m\u001b[43m \u001b[49m\u001b[38;5;124;43m'\u001b[39;49m\u001b[38;5;124;43ma\u001b[39;49m\u001b[38;5;124;43m'\u001b[39;49m\n",
      "\u001b[1;31mTypeError\u001b[0m: unsupported operand type(s) for +: 'int' and 'str'"
     ]
    }
   ],
   "source": [
    "6 + 'a'"
   ]
  },
  {
   "cell_type": "code",
   "execution_count": null,
   "id": "11af8bd7",
   "metadata": {},
   "outputs": [],
   "source": [
    "list = [1,2,3,4,5,6,7,8,9,10]\n",
    "\n",
    "print(list[11])"
   ]
  },
  {
   "cell_type": "code",
   "execution_count": 10,
   "id": "e03c5fc0",
   "metadata": {},
   "outputs": [
    {
     "ename": "ValueError",
     "evalue": "math domain error",
     "output_type": "error",
     "traceback": [
      "\u001b[1;31m---------------------------------------------------------------------------\u001b[0m",
      "\u001b[1;31mValueError\u001b[0m                                Traceback (most recent call last)",
      "Input \u001b[1;32mIn [10]\u001b[0m, in \u001b[0;36m<cell line: 2>\u001b[1;34m()\u001b[0m\n\u001b[0;32m      1\u001b[0m \u001b[38;5;28;01mimport\u001b[39;00m \u001b[38;5;21;01mmath\u001b[39;00m\n\u001b[1;32m----> 2\u001b[0m \u001b[43mmath\u001b[49m\u001b[38;5;241;43m.\u001b[39;49m\u001b[43msqrt\u001b[49m\u001b[43m(\u001b[49m\u001b[38;5;241;43m-\u001b[39;49m\u001b[38;5;241;43m1.0\u001b[39;49m\u001b[43m)\u001b[49m\n",
      "\u001b[1;31mValueError\u001b[0m: math domain error"
     ]
    }
   ],
   "source": [
    "import math\n",
    "math.sqrt(-1.0)"
   ]
  },
  {
   "cell_type": "code",
   "execution_count": 11,
   "id": "05cf0dab",
   "metadata": {},
   "outputs": [
    {
     "ename": "NameError",
     "evalue": "name 'x' is not defined",
     "output_type": "error",
     "traceback": [
      "\u001b[1;31m---------------------------------------------------------------------------\u001b[0m",
      "\u001b[1;31mNameError\u001b[0m                                 Traceback (most recent call last)",
      "Input \u001b[1;32mIn [11]\u001b[0m, in \u001b[0;36m<cell line: 1>\u001b[1;34m()\u001b[0m\n\u001b[1;32m----> 1\u001b[0m \u001b[38;5;28mprint\u001b[39m(\u001b[43mx\u001b[49m)\n",
      "\u001b[1;31mNameError\u001b[0m: name 'x' is not defined"
     ]
    }
   ],
   "source": [
    "print(x)"
   ]
  },
  {
   "cell_type": "code",
   "execution_count": 12,
   "id": "9b8a9ca4",
   "metadata": {
    "scrolled": true
   },
   "outputs": [
    {
     "ename": "FileNotFoundError",
     "evalue": "[Errno 2] No such file or directory: 'hello.txt'",
     "output_type": "error",
     "traceback": [
      "\u001b[1;31m---------------------------------------------------------------------------\u001b[0m",
      "\u001b[1;31mFileNotFoundError\u001b[0m                         Traceback (most recent call last)",
      "Input \u001b[1;32mIn [12]\u001b[0m, in \u001b[0;36m<cell line: 1>\u001b[1;34m()\u001b[0m\n\u001b[1;32m----> 1\u001b[0m \u001b[38;5;28;43mopen\u001b[39;49m\u001b[43m(\u001b[49m\u001b[38;5;124;43m\"\u001b[39;49m\u001b[38;5;124;43mhello.txt\u001b[39;49m\u001b[38;5;124;43m\"\u001b[39;49m\u001b[43m)\u001b[49m\n",
      "\u001b[1;31mFileNotFoundError\u001b[0m: [Errno 2] No such file or directory: 'hello.txt'"
     ]
    }
   ],
   "source": [
    "open(\"hello.txt\")"
   ]
  },
  {
   "cell_type": "markdown",
   "id": "5b068286",
   "metadata": {},
   "source": [
    "Question 10 Python  \n",
    "Encryption is the process of hiding the meaning of a text by substituting letters in the \n",
    "message with other letters, according to some system. If the process is successful, no \n",
    "one but the intended recipient can understand the encrypted message. Cryptanalysis \n",
    "refers to attempts to undo the encryption, even if some details of the encryption are \n",
    "unknown (for example, if an encrypted message has been intercepted). The first step \n",
    "of cryptanalysis is often to build up a table of letter frequencies in the encrypted text. \n",
    "Assume that the string letters is already defined as \n",
    "'abcdefghijklmnopqrstuvwxyz'.  \n",
    "Write a function called frequencies() \n",
    "that takes a string as its only parameter, and returns a list of integers, showing the \n",
    "number of times each character appears in the text. Your function may ignore any \n",
    "characters that are not in letters.\n",
    "=> frequencies('The quick red fox got bored and went home.') \n",
    "[1, 1, 1, 3, 5, 1, 1, 2, 1, 0, 1, 0, 1, 2, 4, 0, 1, 2, 0, 2,\n",
    "1, 0, 1, 1, 0, 0]\n",
    "=> frequencies('apple')"
   ]
  },
  {
   "cell_type": "code",
   "execution_count": 1,
   "id": "7138142a",
   "metadata": {},
   "outputs": [],
   "source": [
    "def frequencies(text):\n",
    "    \n",
    "    letters = ('a','b','c','d','e','f','g','h','i','j','k','l','m','n','o','p','q','r','s','t','u','v','w','x','y','z')\n",
    "    total_letters = []\n",
    "    letter_dict = {}\n",
    "   \n",
    "    \n",
    "    #taking every letter of the input sentence and appending it to the total_letters.\n",
    "    for word in text:\n",
    "          for char in word:\n",
    "            if char.isalpha():\n",
    "                char = char.lower() #to convert input letter into lowercase so that 'a' and 'A' will act as same.\n",
    "                total_letters.append(char)\n",
    "    \n",
    "    #checking every a to z letter in total_letters and if found then we do count of that letter\n",
    "    for char in letters:\n",
    "        if char in total_letters:\n",
    "            letter_dict[char] = total_letters.count(char) \n",
    "           \n",
    "        else:\n",
    "            letter_dict[char] = 0\n",
    "            \n",
    "    #printing the count values\n",
    "    print(list(letter_dict.values()))\n",
    "    "
   ]
  },
  {
   "cell_type": "code",
   "execution_count": 2,
   "id": "10f1a5c5",
   "metadata": {},
   "outputs": [
    {
     "name": "stdout",
     "output_type": "stream",
     "text": [
      "[1, 1, 1, 3, 5, 1, 1, 2, 1, 0, 1, 0, 1, 2, 4, 0, 1, 2, 0, 3, 1, 0, 1, 1, 0, 0]\n"
     ]
    }
   ],
   "source": [
    "frequencies('The quick red fox got bored and went home.')"
   ]
  },
  {
   "cell_type": "code",
   "execution_count": 3,
   "id": "fc5e2dc8",
   "metadata": {},
   "outputs": [
    {
     "name": "stdout",
     "output_type": "stream",
     "text": [
      "[1, 0, 0, 0, 1, 0, 0, 0, 0, 0, 0, 1, 0, 0, 0, 2, 0, 0, 0, 0, 0, 0, 0, 0, 0, 0]\n"
     ]
    }
   ],
   "source": [
    "frequencies('apple')"
   ]
  },
  {
   "cell_type": "code",
   "execution_count": null,
   "id": "1eb2d196",
   "metadata": {},
   "outputs": [],
   "source": []
  }
 ],
 "metadata": {
  "kernelspec": {
   "display_name": "Python 3 (ipykernel)",
   "language": "python",
   "name": "python3"
  },
  "language_info": {
   "codemirror_mode": {
    "name": "ipython",
    "version": 3
   },
   "file_extension": ".py",
   "mimetype": "text/x-python",
   "name": "python",
   "nbconvert_exporter": "python",
   "pygments_lexer": "ipython3",
   "version": "3.9.12"
  }
 },
 "nbformat": 4,
 "nbformat_minor": 5
}
