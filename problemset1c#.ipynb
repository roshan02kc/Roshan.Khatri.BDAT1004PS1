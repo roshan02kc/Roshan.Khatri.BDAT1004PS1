{
 "cells": [
  {
   "cell_type": "markdown",
   "id": "c0034dac",
   "metadata": {},
   "source": [
    "**Question 1 C#  \n",
    "What data type is each of the following?**   \n",
    "5 => Integer  \n",
    "5.0 => Float  \n",
    "5 > 1 => Boolean  \n",
    "\"5\" => Char  \n",
    "5 * 2 => Integer  \n",
    "\"5\" * 2 => String  \n",
    "\"5\" + \"2\" => String  \n",
    "5 / 2 => Float  \n",
    "5 % 2 => Integer  \n",
    "{5, 2, 1} => Dictionary  \n",
    "5 == 3 => Boolean  \n",
    "pi (the number) => Float  \n"
   ]
  },
  {
   "cell_type": "markdown",
   "id": "be79676b",
   "metadata": {},
   "source": [
    "**Question 2 C#  \n",
    "Write (and evaluate) C# expressions that answer these questions:  \n",
    "a. How many letters are there in 'Supercalifragilisticexpialidocious'?  \n",
    "b. Does 'Supercalifragilisticexpialidocious' contain 'ice' as a substring?** "
   ]
  },
  {
   "cell_type": "code",
   "execution_count": 1,
   "id": "87b0a704",
   "metadata": {},
   "outputs": [
    {
     "data": {
      "text/html": [
       "\r\n",
       "<div>\r\n",
       "    <div id='dotnet-interactive-this-cell-27140.Microsoft.DotNet.Interactive.Http.HttpPort' style='display: none'>\r\n",
       "        The below script needs to be able to find the current output cell; this is an easy method to get it.\r\n",
       "    </div>\r\n",
       "    <script type='text/javascript'>\r\n",
       "async function probeAddresses(probingAddresses) {\r\n",
       "    function timeout(ms, promise) {\r\n",
       "        return new Promise(function (resolve, reject) {\r\n",
       "            setTimeout(function () {\r\n",
       "                reject(new Error('timeout'))\r\n",
       "            }, ms)\r\n",
       "            promise.then(resolve, reject)\r\n",
       "        })\r\n",
       "    }\r\n",
       "\r\n",
       "    if (Array.isArray(probingAddresses)) {\r\n",
       "        for (let i = 0; i < probingAddresses.length; i++) {\r\n",
       "\r\n",
       "            let rootUrl = probingAddresses[i];\r\n",
       "\r\n",
       "            if (!rootUrl.endsWith('/')) {\r\n",
       "                rootUrl = `${rootUrl}/`;\r\n",
       "            }\r\n",
       "\r\n",
       "            try {\r\n",
       "                let response = await timeout(1000, fetch(`${rootUrl}discovery`, {\r\n",
       "                    method: 'POST',\r\n",
       "                    cache: 'no-cache',\r\n",
       "                    mode: 'cors',\r\n",
       "                    timeout: 1000,\r\n",
       "                    headers: {\r\n",
       "                        'Content-Type': 'text/plain'\r\n",
       "                    },\r\n",
       "                    body: probingAddresses[i]\r\n",
       "                }));\r\n",
       "\r\n",
       "                if (response.status == 200) {\r\n",
       "                    return rootUrl;\r\n",
       "                }\r\n",
       "            }\r\n",
       "            catch (e) { }\r\n",
       "        }\r\n",
       "    }\r\n",
       "}\r\n",
       "\r\n",
       "function loadDotnetInteractiveApi() {\r\n",
       "    probeAddresses([\"http://192.168.56.1:1000/\", \"http://10.10.111.217:1000/\", \"http://127.0.0.1:1000/\"])\r\n",
       "        .then((root) => {\r\n",
       "        // use probing to find host url and api resources\r\n",
       "        // load interactive helpers and language services\r\n",
       "        let dotnetInteractiveRequire = require.config({\r\n",
       "        context: '27140.Microsoft.DotNet.Interactive.Http.HttpPort',\r\n",
       "                paths:\r\n",
       "            {\r\n",
       "                'dotnet-interactive': `${root}resources`\r\n",
       "                }\r\n",
       "        }) || require;\r\n",
       "\r\n",
       "            window.dotnetInteractiveRequire = dotnetInteractiveRequire;\r\n",
       "\r\n",
       "            window.configureRequireFromExtension = function(extensionName, extensionCacheBuster) {\r\n",
       "                let paths = {};\r\n",
       "                paths[extensionName] = `${root}extensions/${extensionName}/resources/`;\r\n",
       "                \r\n",
       "                let internalRequire = require.config({\r\n",
       "                    context: extensionCacheBuster,\r\n",
       "                    paths: paths,\r\n",
       "                    urlArgs: `cacheBuster=${extensionCacheBuster}`\r\n",
       "                    }) || require;\r\n",
       "\r\n",
       "                return internalRequire\r\n",
       "            };\r\n",
       "        \r\n",
       "            dotnetInteractiveRequire([\r\n",
       "                    'dotnet-interactive/dotnet-interactive'\r\n",
       "                ],\r\n",
       "                function (dotnet) {\r\n",
       "                    dotnet.init(window);\r\n",
       "                },\r\n",
       "                function (error) {\r\n",
       "                    console.log(error);\r\n",
       "                }\r\n",
       "            );\r\n",
       "        })\r\n",
       "        .catch(error => {console.log(error);});\r\n",
       "    }\r\n",
       "\r\n",
       "// ensure `require` is available globally\r\n",
       "if ((typeof(require) !==  typeof(Function)) || (typeof(require.config) !== typeof(Function))) {\r\n",
       "    let require_script = document.createElement('script');\r\n",
       "    require_script.setAttribute('src', 'https://cdnjs.cloudflare.com/ajax/libs/require.js/2.3.6/require.min.js');\r\n",
       "    require_script.setAttribute('type', 'text/javascript');\r\n",
       "    \r\n",
       "    \r\n",
       "    require_script.onload = function() {\r\n",
       "        loadDotnetInteractiveApi();\r\n",
       "    };\r\n",
       "\r\n",
       "    document.getElementsByTagName('head')[0].appendChild(require_script);\r\n",
       "}\r\n",
       "else {\r\n",
       "    loadDotnetInteractiveApi();\r\n",
       "}\r\n",
       "\r\n",
       "    </script>\r\n",
       "</div>"
      ]
     },
     "metadata": {},
     "output_type": "display_data"
    },
    {
     "name": "stdout",
     "output_type": "stream",
     "text": [
      "a=> There are 34 letters in Supercalifragilisticexpialidocious string\n",
      "\n",
      "b. Does 'Supercalifragilisticexpialidocious' contain 'ice' as a substring?\n",
      "True\n"
     ]
    }
   ],
   "source": [
    "string word = \"Supercalifragilisticexpialidocious\";\n",
    "int c = 0;\n",
    "foreach (char itme in word)\n",
    "    c = c + 1;\n",
    "Console.WriteLine(\"a=> There are {0} letters in {1} string\", c, word);\n",
    "Console.WriteLine(\"\");\n",
    "Console.WriteLine(\"b. Does 'Supercalifragilisticexpialidocious' contain 'ice' as a substring?\");\n",
    "Console.WriteLine(word.Contains(\"ice\"));\n"
   ]
  },
  {
   "cell_type": "markdown",
   "id": "33cbc3d8",
   "metadata": {},
   "source": [
    "**c. Which of the following words is the longest:  \n",
    "Supercalifragilisticexpialidocious, Honorificabilitudinitatibus, or \n",
    "Bababadalgharaghtakamminarronnkonn?** "
   ]
  },
  {
   "cell_type": "code",
   "execution_count": 2,
   "id": "5c4c2756",
   "metadata": {},
   "outputs": [
    {
     "name": "stdout",
     "output_type": "stream",
     "text": [
      "The longest word (is/are)\n",
      "Supercalifragilisticexpialidocious,Bababadalgharaghtakamminarronnkonn\n"
     ]
    }
   ],
   "source": [
    "string x = \"Supercalifragilisticexpialidocious\";\n",
    "string y = \"Honorificabilitudinitatibus\";\n",
    "string z = \"Bababadalgharaghtakamminarronnkonn\";\n",
    "string longest = \"\";\n",
    "if (x.Length >= y.Length && x.Length >= z.Length)\n",
    "{\n",
    "\n",
    "    longest = x;\n",
    "}\n",
    "if (y.Length >= x.Length && y.Length >= z.Length)\n",
    "{\n",
    "    longest = longest + \",\" + y;\n",
    "}\n",
    "if (z.Length >= x.Length && z.Length >= y.Length)\n",
    "{\n",
    "    longest = longest + \",\" + z;\n",
    "}\n",
    "\n",
    "Console.WriteLine(\"The longest word (is/are)\");\n",
    "Console.WriteLine(longest);\n"
   ]
  },
  {
   "cell_type": "markdown",
   "id": "c2d8b8f5",
   "metadata": {},
   "source": [
    "**d. Which composer comes first in the dictionary: 'Berlioz', 'Borodin', 'Brian','Bartok', 'Bellini', 'Buxtehude', 'Bernstein'. Which one comes last?**"
   ]
  },
  {
   "cell_type": "code",
   "execution_count": 3,
   "id": "df1b7c8c",
   "metadata": {},
   "outputs": [
    {
     "name": "stdout",
     "output_type": "stream",
     "text": [
      "First composer in the dictionary: Bartok\n",
      "\n",
      "Last composer in the dictionary: Buxtehude\n"
     ]
    }
   ],
   "source": [
    "List<string> Composers = new List<string>();\n",
    "Composers.Add(\"Berlioz\");\n",
    "Composers.Add(\"Borodin\");\n",
    "Composers.Add(\"Brain\");\n",
    "Composers.Add(\"Bartok\");\n",
    "Composers.Add(\"Bellini\");\n",
    "Composers.Add(\"Buxtehude\");\n",
    "Composers.Add(\"Bernstein\");\n",
    "Composers.Sort();\n",
    "int len = Composers.Count;\n",
    "int lastobjectpositon = len - 1;\n",
    "Console.WriteLine(\"First composer in the dictionary: {0}\",Composers[0]);\n",
    "Console.WriteLine();\n",
    "Console.WriteLine(\"Last composer in the dictionary: {0}\", Composers[lastobjectpositon]); "
   ]
  },
  {
   "cell_type": "markdown",
   "id": "c1b87e3f",
   "metadata": {},
   "source": [
    "**Question 3 C #  \n",
    "Implement function triangleArea(a,b,c) that takes as input the lengths of the 3 sides of a triangle and returns the area of the triangle. By Heron's formula, the area  \n",
    "of a triangle with side lengths a, b, and c is s(s − a)(s −b)(s −c), where  \n",
    "s = (a + b + c)/2.  \n",
    "=> triangleArea(2,2,2)  \n",
    "1.7320508075688772**"
   ]
  },
  {
   "cell_type": "code",
   "execution_count": 4,
   "id": "18720233",
   "metadata": {},
   "outputs": [
    {
     "name": "stdout",
     "output_type": "stream",
     "text": [
      "Porgram to Find Area of Triangle\n",
      "Enter the length of the first side of triangle:Enter the length of the second side of triangle:Enter the length of the third side of triangle:The area of Triangle is:0\n"
     ]
    }
   ],
   "source": [
    "//Work fine in visual studio but here dont know why...\n",
    "Console.WriteLine(\"Porgram to Find Area of Triangle\");\n",
    "double a, b, c, s, area;\n",
    "Console.Write(\"Enter the length of the first side of triangle:\");\n",
    "a = Convert.ToDouble(Console.ReadLine());\n",
    "\n",
    "Console.Write(\"Enter the length of the second side of triangle:\");\n",
    "b = Convert.ToDouble(Console.ReadLine()); \n",
    "\n",
    "Console.Write(\"Enter the length of the third side of triangle:\");\n",
    "c = Convert.ToDouble(Console.ReadLine());\n",
    "\n",
    "s = (a+b+c)/2;\n",
    "area = Math.Sqrt (s*(s - a)*(s - b)*(s - c));\n",
    "Console.WriteLine(\"The area of Triangle is:{0}\", area);\n"
   ]
  },
  {
   "cell_type": "markdown",
   "id": "288845d7",
   "metadata": {},
   "source": [
    "**Question 4 C#  \n",
    "Write a program in C# Sharp to separate odd and even integers in separate arrays.  \n",
    "Go to the editor  \n",
    "Test Data :  \n",
    "Input the number of elements to be stored in the array :5   \n",
    "Input 5 elements in the array :  \n",
    "element - 0 : 25  \n",
    "element - 1 : 47  \n",
    "element - 2 : 42  \n",
    "element - 3 : 56  \n",
    "element - 4 : 32   \n",
    "Expected Output:  \n",
    "The Even elements are:   \n",
    "42 56 32  \n",
    "The Odd elements are :   \n",
    "25 47**"
   ]
  },
  {
   "cell_type": "code",
   "execution_count": 5,
   "id": "dbead22a",
   "metadata": {},
   "outputs": [
    {
     "name": "stdout",
     "output_type": "stream",
     "text": [
      "How many numbers you want to input?\n",
      "Enter 0 numbers in the array :\n",
      "Even numbers are:\n",
      "\n",
      "---------------------------------------------\n",
      "Odd numbers are:\n"
     ]
    }
   ],
   "source": [
    "//Work fine in visual studio but here dont know why...\n",
    "Console.WriteLine(\"How many numbers you want to input?\");\n",
    "int num = Convert.ToInt32(Console.ReadLine());\n",
    "int[] array1 = new int[10];\n",
    "int[] array2 = new int[10];\n",
    "int[] array3 = new int[10];\n",
    "int i, j = 0, k = 0;\n",
    "\n",
    "\n",
    "Console.WriteLine(\"Enter {0} numbers in the array :\", num);\n",
    "for (i = 0; i < num; i++)\n",
    "{\n",
    "    Console.Write(\"Number - {0} : \", i+1);\n",
    "    array1[i] = Convert.ToInt32(Console.ReadLine());\n",
    "}\n",
    "\n",
    "for (i = 0; i < num; i++)\n",
    "{\n",
    "    if (array1[i] % 2 == 0)\n",
    "    {\n",
    "        array2[j] = array1[i];\n",
    "        j++;\n",
    "    }\n",
    "    else\n",
    "    {\n",
    "        array3[k] = array1[i];\n",
    "        k++;\n",
    "    }\n",
    "}\n",
    "\n",
    "Console.WriteLine(\"Even numbers are:\");\n",
    "for (i = 0; i < j; i++)\n",
    "{\n",
    "    Console.Write(\"{0} \", array2[i]);\n",
    "}\n",
    "Console.WriteLine();\n",
    "Console.WriteLine(\"---------------------------------------------\");\n",
    "\n",
    "Console.WriteLine(\"Odd numbers are:\");\n",
    "for (i = 0; i < k; i++)\n",
    "{\n",
    "    Console.Write(\"{0} \", array3[i]);\n",
    "}\n",
    "\n"
   ]
  },
  {
   "cell_type": "markdown",
   "id": "267b970a",
   "metadata": {},
   "source": [
    "**Question 5 C#  \n",
    "a. Write a function inside(x,y,x1,y1,x2,y2) that returns True or False depending on whether the point(x,y) lies in the rectangle with lower left \n",
    "corner (x1,y1) and upper right corner (x2,y2).  \n",
    "inside(1,1,0,0,2,3)  \n",
    "True  \n",
    "inside(-1,-1,0,0,2,3)  \n",
    "False  \n",
    "b. Use function inside()from part a. to write an expression that tests whether   \n",
    "the point (1,1) lies in both of the following rectangles: one with lower left \n",
    "corner (0.3, 0.5) and upper right corner (1.1, 0.7) and the other with lower \n",
    "left corner (0.5, 0.2) and upper right corner (1.1, 2).**"
   ]
  },
  {
   "cell_type": "code",
   "execution_count": 6,
   "id": "67b3ffb8",
   "metadata": {},
   "outputs": [
    {
     "name": "stderr",
     "output_type": "stream",
     "text": [
      "\r\n",
      "(17,24): warning CS7022: The entry point of the program is global code; ignoring 'check.Main()' entry point.\r\n",
      "\r\n"
     ]
    }
   ],
   "source": [
    "//Work fine in visual studio but here dont know why...\n",
    "class check\n",
    "{\n",
    "\n",
    " static void inside(double x, double y, double x1, double y1, double x2, double y2)\n",
    "    {\n",
    "        if (x > x1 && x < x2 && y > y1 && y < y2)\n",
    "        {\n",
    "            \n",
    "            Console.Write(\"True\");\n",
    "        }\n",
    "        else\n",
    "        \n",
    "        Console.Write(\"False\");\n",
    "    }\n",
    "\n",
    "    public static void Main()\n",
    "    {\n",
    "        Console.WriteLine(\"Program to chekc whether the point lies inside the rectangle\");\n",
    "        Console.WriteLine(\"For (1, 1, 0.3, 0.5, 1.1, 0.7)\");\n",
    "        inside(1, 1, 0.3, 0.5, 1.1, 0.7);\n",
    "        Console.WriteLine();\n",
    "        Console.WriteLine();\n",
    "        Console.WriteLine(\"For (1, 1, 0.5, 0.2, 1.1, 2)\");\n",
    "        inside(1, 1, 0.5, 0.2, 1.1, 2);\n",
    "    }\n",
    "}"
   ]
  },
  {
   "cell_type": "code",
   "execution_count": null,
   "id": "2ba6669e",
   "metadata": {},
   "outputs": [],
   "source": []
  }
 ],
 "metadata": {
  "kernelspec": {
   "display_name": ".NET (C#)",
   "language": "C#",
   "name": ".net-csharp"
  },
  "language_info": {
   "file_extension": ".cs",
   "mimetype": "text/x-csharp",
   "name": "C#",
   "pygments_lexer": "csharp",
   "version": "10.0"
  }
 },
 "nbformat": 4,
 "nbformat_minor": 5
}
